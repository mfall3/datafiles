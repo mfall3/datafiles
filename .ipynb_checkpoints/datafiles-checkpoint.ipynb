{
 "cells": [
  {
   "cell_type": "code",
   "execution_count": 1,
   "metadata": {},
   "outputs": [
    {
     "name": "stdout",
     "output_type": "stream",
     "text": [
      "1.2.3\n"
     ]
    }
   ],
   "source": [
    "import pandas as pd\n",
    "print(pd.__version__)"
   ]
  },
  {
   "cell_type": "code",
   "execution_count": 2,
   "metadata": {},
   "outputs": [
    {
     "name": "stdout",
     "output_type": "stream",
     "text": [
      "3.3.4\n"
     ]
    }
   ],
   "source": [
    "import matplotlib\n",
    "print(matplotlib.__version__)\n",
    "\n",
    "import matplotlib.pyplot as plt\n",
    "import matplotlib.dates as mdates"
   ]
  },
  {
   "cell_type": "code",
   "execution_count": 3,
   "metadata": {},
   "outputs": [
    {
     "name": "stdout",
     "output_type": "stream",
     "text": [
      "1.19.2\n"
     ]
    }
   ],
   "source": [
    "import numpy as np\n",
    "print(np.__version__)"
   ]
  },
  {
   "cell_type": "code",
   "execution_count": 4,
   "metadata": {},
   "outputs": [
    {
     "data": {
      "text/html": [
       "<div>\n",
       "<style scoped>\n",
       "    .dataframe tbody tr th:only-of-type {\n",
       "        vertical-align: middle;\n",
       "    }\n",
       "\n",
       "    .dataframe tbody tr th {\n",
       "        vertical-align: top;\n",
       "    }\n",
       "\n",
       "    .dataframe thead th {\n",
       "        text-align: right;\n",
       "    }\n",
       "</style>\n",
       "<table border=\"1\" class=\"dataframe\">\n",
       "  <thead>\n",
       "    <tr style=\"text-align: right;\">\n",
       "      <th></th>\n",
       "      <th>doi</th>\n",
       "      <th>pub_date</th>\n",
       "      <th>filename</th>\n",
       "      <th>file_format</th>\n",
       "      <th>num_bytes</th>\n",
       "      <th>total_downloads</th>\n",
       "    </tr>\n",
       "  </thead>\n",
       "  <tbody>\n",
       "    <tr>\n",
       "      <th>0</th>\n",
       "      <td>10.5072/FK2IDB-1754329_V1</td>\n",
       "      <td>2017-01-09</td>\n",
       "      <td>DatabaseDesignWorkshopSlides.pdf</td>\n",
       "      <td>application/pdf</td>\n",
       "      <td>2373805</td>\n",
       "      <td>48</td>\n",
       "    </tr>\n",
       "    <tr>\n",
       "      <th>1</th>\n",
       "      <td>10.5072/FK2IDB-1754329_V1</td>\n",
       "      <td>2017-01-09</td>\n",
       "      <td>information_system_contingency_plan_template.docx</td>\n",
       "      <td>application/msword</td>\n",
       "      <td>975762</td>\n",
       "      <td>136</td>\n",
       "    </tr>\n",
       "    <tr>\n",
       "      <th>2</th>\n",
       "      <td>10.5072/FK2IDB-1754329_V1</td>\n",
       "      <td>2017-01-09</td>\n",
       "      <td>face.jpeg</td>\n",
       "      <td>image/jpeg</td>\n",
       "      <td>3449</td>\n",
       "      <td>116</td>\n",
       "    </tr>\n",
       "    <tr>\n",
       "      <th>3</th>\n",
       "      <td>10.13012/B2IDB-4900670_V1</td>\n",
       "      <td>2016-06-23</td>\n",
       "      <td>travel_times_2011.zip</td>\n",
       "      <td>application/zip</td>\n",
       "      <td>1335691587</td>\n",
       "      <td>470</td>\n",
       "    </tr>\n",
       "    <tr>\n",
       "      <th>4</th>\n",
       "      <td>10.13012/B2IDB-4900670_V1</td>\n",
       "      <td>2016-06-23</td>\n",
       "      <td>links.csv</td>\n",
       "      <td>text/csv</td>\n",
       "      <td>42001684</td>\n",
       "      <td>731</td>\n",
       "    </tr>\n",
       "  </tbody>\n",
       "</table>\n",
       "</div>"
      ],
      "text/plain": [
       "                         doi    pub_date  \\\n",
       "0  10.5072/FK2IDB-1754329_V1  2017-01-09   \n",
       "1  10.5072/FK2IDB-1754329_V1  2017-01-09   \n",
       "2  10.5072/FK2IDB-1754329_V1  2017-01-09   \n",
       "3  10.13012/B2IDB-4900670_V1  2016-06-23   \n",
       "4  10.13012/B2IDB-4900670_V1  2016-06-23   \n",
       "\n",
       "                                            filename         file_format  \\\n",
       "0                   DatabaseDesignWorkshopSlides.pdf     application/pdf   \n",
       "1  information_system_contingency_plan_template.docx  application/msword   \n",
       "2                                          face.jpeg          image/jpeg   \n",
       "3                              travel_times_2011.zip     application/zip   \n",
       "4                                          links.csv            text/csv   \n",
       "\n",
       "    num_bytes  total_downloads  \n",
       "0     2373805               48  \n",
       "1      975762              136  \n",
       "2        3449              116  \n",
       "3  1335691587              470  \n",
       "4    42001684              731  "
      ]
     },
     "execution_count": 4,
     "metadata": {},
     "output_type": "execute_result"
    }
   ],
   "source": [
    "# read the csv into the dataframe\n",
    "# https://doi.org/10.13012/B2IDB-7291801_V1\n",
    "# https://databank.illinois.edu/datafiles/xpwut/download\n",
    "df = pd.read_csv('data/datafiles_2021-05-07.csv')\n",
    "df.fillna('', inplace=True)\n",
    "df.head()"
   ]
  },
  {
   "cell_type": "code",
   "execution_count": 5,
   "metadata": {},
   "outputs": [],
   "source": [
    "df[\"pub_date\"] = pd.to_datetime(df[\"pub_date\"])"
   ]
  },
  {
   "cell_type": "code",
   "execution_count": 7,
   "metadata": {},
   "outputs": [
    {
     "name": "stdout",
     "output_type": "stream",
     "text": [
      "before dropping files with future publication dates\n",
      "4534\n",
      "number of files from datasets with future publication dates:\n",
      "108\n",
      "after dropping files with future publication dates\n",
      "4426\n"
     ]
    },
    {
     "data": {
      "text/html": [
       "<div>\n",
       "<style scoped>\n",
       "    .dataframe tbody tr th:only-of-type {\n",
       "        vertical-align: middle;\n",
       "    }\n",
       "\n",
       "    .dataframe tbody tr th {\n",
       "        vertical-align: top;\n",
       "    }\n",
       "\n",
       "    .dataframe thead th {\n",
       "        text-align: right;\n",
       "    }\n",
       "</style>\n",
       "<table border=\"1\" class=\"dataframe\">\n",
       "  <thead>\n",
       "    <tr style=\"text-align: right;\">\n",
       "      <th></th>\n",
       "      <th>doi</th>\n",
       "      <th>pub_date</th>\n",
       "      <th>filename</th>\n",
       "      <th>file_format</th>\n",
       "      <th>num_bytes</th>\n",
       "      <th>total_downloads</th>\n",
       "    </tr>\n",
       "  </thead>\n",
       "  <tbody>\n",
       "    <tr>\n",
       "      <th>0</th>\n",
       "      <td>10.5072/FK2IDB-1754329_V1</td>\n",
       "      <td>2017-01-09</td>\n",
       "      <td>DatabaseDesignWorkshopSlides.pdf</td>\n",
       "      <td>application/pdf</td>\n",
       "      <td>2373805</td>\n",
       "      <td>48</td>\n",
       "    </tr>\n",
       "    <tr>\n",
       "      <th>1</th>\n",
       "      <td>10.5072/FK2IDB-1754329_V1</td>\n",
       "      <td>2017-01-09</td>\n",
       "      <td>information_system_contingency_plan_template.docx</td>\n",
       "      <td>application/msword</td>\n",
       "      <td>975762</td>\n",
       "      <td>136</td>\n",
       "    </tr>\n",
       "    <tr>\n",
       "      <th>2</th>\n",
       "      <td>10.5072/FK2IDB-1754329_V1</td>\n",
       "      <td>2017-01-09</td>\n",
       "      <td>face.jpeg</td>\n",
       "      <td>image/jpeg</td>\n",
       "      <td>3449</td>\n",
       "      <td>116</td>\n",
       "    </tr>\n",
       "    <tr>\n",
       "      <th>3</th>\n",
       "      <td>10.13012/B2IDB-4900670_V1</td>\n",
       "      <td>2016-06-23</td>\n",
       "      <td>travel_times_2011.zip</td>\n",
       "      <td>application/zip</td>\n",
       "      <td>1335691587</td>\n",
       "      <td>470</td>\n",
       "    </tr>\n",
       "    <tr>\n",
       "      <th>4</th>\n",
       "      <td>10.13012/B2IDB-4900670_V1</td>\n",
       "      <td>2016-06-23</td>\n",
       "      <td>links.csv</td>\n",
       "      <td>text/csv</td>\n",
       "      <td>42001684</td>\n",
       "      <td>731</td>\n",
       "    </tr>\n",
       "  </tbody>\n",
       "</table>\n",
       "</div>"
      ],
      "text/plain": [
       "                         doi   pub_date  \\\n",
       "0  10.5072/FK2IDB-1754329_V1 2017-01-09   \n",
       "1  10.5072/FK2IDB-1754329_V1 2017-01-09   \n",
       "2  10.5072/FK2IDB-1754329_V1 2017-01-09   \n",
       "3  10.13012/B2IDB-4900670_V1 2016-06-23   \n",
       "4  10.13012/B2IDB-4900670_V1 2016-06-23   \n",
       "\n",
       "                                            filename         file_format  \\\n",
       "0                   DatabaseDesignWorkshopSlides.pdf     application/pdf   \n",
       "1  information_system_contingency_plan_template.docx  application/msword   \n",
       "2                                          face.jpeg          image/jpeg   \n",
       "3                              travel_times_2011.zip     application/zip   \n",
       "4                                          links.csv            text/csv   \n",
       "\n",
       "    num_bytes  total_downloads  \n",
       "0     2373805               48  \n",
       "1      975762              136  \n",
       "2        3449              116  \n",
       "3  1335691587              470  \n",
       "4    42001684              731  "
      ]
     },
     "execution_count": 7,
     "metadata": {},
     "output_type": "execute_result"
    }
   ],
   "source": [
    "# drop files from datasets with future (embargo) publication dates\n",
    "print(\"before dropping files with future publication dates\")\n",
    "print(len(df))\n",
    "print(\"number of files from datasets with future publication dates:\")\n",
    "print(sum(df['pub_date'] > '2021-04-01'))\n",
    "df = df[df['pub_date'] <= '2021-04-01']\n",
    "print(\"after dropping files with future publication dates\")\n",
    "print(len(df))\n",
    "df.head()\n"
   ]
  },
  {
   "cell_type": "code",
   "execution_count": 8,
   "metadata": {},
   "outputs": [],
   "source": [
    "# gb is number of bytes in a gigabyte\n",
    "gb = 1024**3"
   ]
  },
  {
   "cell_type": "code",
   "execution_count": 9,
   "metadata": {},
   "outputs": [
    {
     "data": {
      "text/html": [
       "<div>\n",
       "<style scoped>\n",
       "    .dataframe tbody tr th:only-of-type {\n",
       "        vertical-align: middle;\n",
       "    }\n",
       "\n",
       "    .dataframe tbody tr th {\n",
       "        vertical-align: top;\n",
       "    }\n",
       "\n",
       "    .dataframe thead th {\n",
       "        text-align: right;\n",
       "    }\n",
       "</style>\n",
       "<table border=\"1\" class=\"dataframe\">\n",
       "  <thead>\n",
       "    <tr style=\"text-align: right;\">\n",
       "      <th></th>\n",
       "      <th>doi</th>\n",
       "      <th>pub_date</th>\n",
       "      <th>filename</th>\n",
       "      <th>file_format</th>\n",
       "      <th>num_bytes</th>\n",
       "      <th>total_downloads</th>\n",
       "      <th>size_code</th>\n",
       "    </tr>\n",
       "  </thead>\n",
       "  <tbody>\n",
       "    <tr>\n",
       "      <th>0</th>\n",
       "      <td>10.5072/FK2IDB-1754329_V1</td>\n",
       "      <td>2017-01-09</td>\n",
       "      <td>DatabaseDesignWorkshopSlides.pdf</td>\n",
       "      <td>application/pdf</td>\n",
       "      <td>2373805</td>\n",
       "      <td>48</td>\n",
       "      <td>0 - 4</td>\n",
       "    </tr>\n",
       "    <tr>\n",
       "      <th>1</th>\n",
       "      <td>10.5072/FK2IDB-1754329_V1</td>\n",
       "      <td>2017-01-09</td>\n",
       "      <td>information_system_contingency_plan_template.docx</td>\n",
       "      <td>application/msword</td>\n",
       "      <td>975762</td>\n",
       "      <td>136</td>\n",
       "      <td>0 - 4</td>\n",
       "    </tr>\n",
       "    <tr>\n",
       "      <th>2</th>\n",
       "      <td>10.5072/FK2IDB-1754329_V1</td>\n",
       "      <td>2017-01-09</td>\n",
       "      <td>face.jpeg</td>\n",
       "      <td>image/jpeg</td>\n",
       "      <td>3449</td>\n",
       "      <td>116</td>\n",
       "      <td>0 - 4</td>\n",
       "    </tr>\n",
       "    <tr>\n",
       "      <th>3</th>\n",
       "      <td>10.13012/B2IDB-4900670_V1</td>\n",
       "      <td>2016-06-23</td>\n",
       "      <td>travel_times_2011.zip</td>\n",
       "      <td>application/zip</td>\n",
       "      <td>1335691587</td>\n",
       "      <td>470</td>\n",
       "      <td>0 - 4</td>\n",
       "    </tr>\n",
       "    <tr>\n",
       "      <th>4</th>\n",
       "      <td>10.13012/B2IDB-4900670_V1</td>\n",
       "      <td>2016-06-23</td>\n",
       "      <td>links.csv</td>\n",
       "      <td>text/csv</td>\n",
       "      <td>42001684</td>\n",
       "      <td>731</td>\n",
       "      <td>0 - 4</td>\n",
       "    </tr>\n",
       "  </tbody>\n",
       "</table>\n",
       "</div>"
      ],
      "text/plain": [
       "                         doi   pub_date  \\\n",
       "0  10.5072/FK2IDB-1754329_V1 2017-01-09   \n",
       "1  10.5072/FK2IDB-1754329_V1 2017-01-09   \n",
       "2  10.5072/FK2IDB-1754329_V1 2017-01-09   \n",
       "3  10.13012/B2IDB-4900670_V1 2016-06-23   \n",
       "4  10.13012/B2IDB-4900670_V1 2016-06-23   \n",
       "\n",
       "                                            filename         file_format  \\\n",
       "0                   DatabaseDesignWorkshopSlides.pdf     application/pdf   \n",
       "1  information_system_contingency_plan_template.docx  application/msword   \n",
       "2                                          face.jpeg          image/jpeg   \n",
       "3                              travel_times_2011.zip     application/zip   \n",
       "4                                          links.csv            text/csv   \n",
       "\n",
       "    num_bytes  total_downloads size_code  \n",
       "0     2373805               48     0 - 4  \n",
       "1      975762              136     0 - 4  \n",
       "2        3449              116     0 - 4  \n",
       "3  1335691587              470     0 - 4  \n",
       "4    42001684              731     0 - 4  "
      ]
     },
     "execution_count": 9,
     "metadata": {},
     "output_type": "execute_result"
    }
   ],
   "source": [
    "# add a column to the dataframe for the file size catagory code\n",
    "conditions = [\n",
    "    (df['num_bytes'] <= 4*gb),\n",
    "    (df['num_bytes'] > 4*gb) & (df['num_bytes'] <= 15*gb),\n",
    "    (df['num_bytes'] > 15*gb) & (df['num_bytes'] <= 50*gb),\n",
    "    (df['num_bytes'] > 50*gb)\n",
    "]\n",
    "outputs = [\n",
    "    '0 - 4', '4 - 15', '15 - 50', '50+'\n",
    "]\n",
    "df['size_code'] = np.select(conditions, outputs, 'Other')\n",
    "df.head()"
   ]
  },
  {
   "cell_type": "code",
   "execution_count": 10,
   "metadata": {},
   "outputs": [
    {
     "name": "stdout",
     "output_type": "stream",
     "text": [
      "['0 - 4' '15 - 50' '4 - 15' '50+']\n",
      "[4263   65   82   16]\n",
      "4426\n"
     ]
    }
   ],
   "source": [
    "labels, counts = np.unique(df['size_code'], return_counts=True)\n",
    "print(labels)\n",
    "print(counts)\n",
    "total = len(df)\n",
    "print(total)"
   ]
  },
  {
   "cell_type": "code",
   "execution_count": 11,
   "metadata": {},
   "outputs": [
    {
     "data": {
      "text/plain": [
       "[]"
      ]
     },
     "execution_count": 11,
     "metadata": {},
     "output_type": "execute_result"
    },
    {
     "data": {
      "image/png": "[encoded data removed]",
      "text/plain": [
       "<Figure size 720x360 with 1 Axes>"
      ]
     },
     "metadata": {
      "needs_background": "light"
     },
     "output_type": "display_data"
    }
   ],
   "source": [
    "fig=plt.figure(figsize=(10,5))\n",
    "ax=fig.add_axes([0,0,1,1])\n",
    "ax.bar(labels,counts)\n",
    "ax.set_ylabel('Number of files')\n",
    "ax.set_xlabel('Size category')\n",
    "\n",
    "rects = ax.patches\n",
    "\n",
    "percentages = [\"{:.1%}\".format(float(x)/float(total)) + \" (n=\" + str(x) + \")\" for x in counts]\n",
    "\n",
    "for rect, label in zip(rects, percentages):\n",
    "    height = rect.get_height()\n",
    "    ax.text(rect.get_x() + rect.get_width() / 2, height + 5, label,\n",
    "            ha='center', va='bottom')\n",
    "\n",
    "# rotate_labels\n",
    "for label in ax.get_xticklabels():\n",
    "    label.set_rotation(40)\n",
    "    label.set_horizontalalignment('right')\n",
    "\n",
    "ax.plot()"
   ]
  },
  {
   "cell_type": "code",
   "execution_count": 12,
   "metadata": {},
   "outputs": [
    {
     "name": "stdout",
     "output_type": "stream",
     "text": [
      "['0 - 4' '15 - 50' '4 - 15' '50+']\n",
      "[4263   65   82   16]\n"
     ]
    }
   ],
   "source": [
    "labels, counts = np.unique(df['size_code'], return_counts=True)\n",
    "print(labels)\n",
    "print(counts)"
   ]
  },
  {
   "cell_type": "code",
   "execution_count": 13,
   "metadata": {},
   "outputs": [
    {
     "data": {
      "image/png": "[encoded data removed]",
      "text/plain": [
       "<Figure size 432x288 with 1 Axes>"
      ]
     },
     "metadata": {},
     "output_type": "display_data"
    }
   ],
   "source": [
    "fig1, ax1 = plt.subplots()\n",
    "ax1.pie(counts,\n",
    "        labels=labels,\n",
    "        autopct='%1.1f%%',\n",
    "        shadow=True,\n",
    "        startangle=90)\n",
    "ax1.axis('equal')\n",
    "\n",
    "plt.show()"
   ]
  },
  {
   "cell_type": "code",
   "execution_count": 14,
   "metadata": {},
   "outputs": [
    {
     "data": {
      "text/plain": [
       "0 - 4      96.317216\n",
       "4 - 15      1.852689\n",
       "15 - 50     1.468595\n",
       "50+         0.361500\n",
       "Name: size_code, dtype: float64"
      ]
     },
     "execution_count": 14,
     "metadata": {},
     "output_type": "execute_result"
    }
   ],
   "source": [
    "df['size_code'].value_counts(normalize=True) * 100"
   ]
  },
  {
   "cell_type": "code",
   "execution_count": 15,
   "metadata": {},
   "outputs": [
    {
     "name": "stdout",
     "output_type": "stream",
     "text": [
      "4263\n",
      "163\n",
      "0.9631721644826028\n",
      "0.0368278355173972\n",
      "4426\n"
     ]
    }
   ],
   "source": [
    "num_small = sum(df['num_bytes'] <= 4*gb)\n",
    "num_large = sum(df['num_bytes'] > 4*gb)\n",
    "total = len(df)\n",
    "print(num_small)\n",
    "print(num_large)\n",
    "print(num_small/total)\n",
    "print(num_large/total)\n",
    "print(total)"
   ]
  },
  {
   "cell_type": "code",
   "execution_count": 16,
   "metadata": {},
   "outputs": [
    {
     "data": {
      "text/plain": [
       "Timestamp('2021-03-31 00:00:00')"
      ]
     },
     "execution_count": 16,
     "metadata": {},
     "output_type": "execute_result"
    }
   ],
   "source": [
    "# last publication date in dataframe -- includes embargo\n",
    "df[\"pub_date\"].max()"
   ]
  },
  {
   "cell_type": "code",
   "execution_count": 17,
   "metadata": {},
   "outputs": [
    {
     "data": {
      "text/plain": [
       "Timestamp('2016-04-29 00:00:00')"
      ]
     },
     "execution_count": 17,
     "metadata": {},
     "output_type": "execute_result"
    }
   ],
   "source": [
    "# first publication date in dataframe\n",
    "df[\"pub_date\"].min()"
   ]
  },
  {
   "cell_type": "code",
   "execution_count": 18,
   "metadata": {},
   "outputs": [
    {
     "data": {
      "text/plain": [
       "0"
      ]
     },
     "execution_count": 18,
     "metadata": {},
     "output_type": "execute_result"
    }
   ],
   "source": [
    "sum(df[\"pub_date\"] > '2021-04-01')"
   ]
  },
  {
   "cell_type": "code",
   "execution_count": 19,
   "metadata": {},
   "outputs": [
    {
     "name": "stdout",
     "output_type": "stream",
     "text": [
      "Total GB in files 4GB or smaller: 985.081717739813\n",
      "Total GB in files larger than 4GB: 5982.069452524185\n",
      "Total GB in all files: 6967.151170263998\n"
     ]
    }
   ],
   "source": [
    "# create a numpy.ndarray from the num_bytes column for convenience\n",
    "file_size_column = df.loc[:,'num_bytes']\n",
    "file_sizes = file_size_column.values\n",
    "\n",
    "# calculate total GB in small files vs. large files\n",
    "a = file_sizes[(gb*4 >= file_sizes) ].sum()\n",
    "b = file_sizes[(gb*4 < file_sizes) ].sum()\n",
    "print(\"Total GB in files 4GB or smaller: \" + str(a/gb))\n",
    "print(\"Total GB in files larger than 4GB: \" + str(b/gb))\n",
    "print(\"Total GB in all files: \" + str((a+b)/gb))"
   ]
  },
  {
   "cell_type": "code",
   "execution_count": 20,
   "metadata": {},
   "outputs": [],
   "source": [
    "df[\"size_in_gb\"] = round(df[\"num_bytes\"]/gb, 1)"
   ]
  },
  {
   "cell_type": "code",
   "execution_count": 21,
   "metadata": {},
   "outputs": [
    {
     "data": {
      "text/plain": [
       "<bound method Axes.plot of <matplotlib.axes._axes.Axes object at 0x7fe7023e00a0>>"
      ]
     },
     "execution_count": 21,
     "metadata": {},
     "output_type": "execute_result"
    },
    {
     "data": {
      "image/png": "[encoded data removed]",
      "text/plain": [
       "<Figure size 720x360 with 1 Axes>"
      ]
     },
     "metadata": {
      "needs_background": "light"
     },
     "output_type": "display_data"
    }
   ],
   "source": [
    "# visualize mostly small files, but more and more large files\n",
    "fig=plt.figure(figsize=(10,5))\n",
    "ax=fig.add_axes([0,0,1,1])\n",
    "df[\"size_in_gb\"] = df[\"num_bytes\"]/gb\n",
    "df=df.sort_values(\"pub_date\")\n",
    "ax.scatter(df.pub_date, df.size_in_gb)\n",
    "ax.set_ylabel(\"File Size (in GB)\")\n",
    "ax.set_xlabel(\"Publication Date\")\n",
    "\n",
    "# Major ticks every year\n",
    "ax.xaxis.set_major_locator(mdates.AutoDateLocator())\n",
    "\n",
    "# Minor ticks every month\n",
    "ax.xaxis.set_minor_locator(mdates.MonthLocator())\n",
    "\n",
    "# rotate_labels\n",
    "for label in ax.get_xticklabels():\n",
    "    label.set_rotation(40)\n",
    "    label.set_horizontalalignment('right')\n",
    "\n",
    "ax.plot\n",
    "\n"
   ]
  },
  {
   "cell_type": "code",
   "execution_count": 22,
   "metadata": {},
   "outputs": [],
   "source": [
    "file_type_column = df.loc[:,'file_format']\n",
    "file_types = file_type_column.values"
   ]
  },
  {
   "cell_type": "code",
   "execution_count": 23,
   "metadata": {},
   "outputs": [
    {
     "data": {
      "text/plain": [
       "array(['', 'application/msword',\n",
       "       'application/netcdf, application/x-netcdf',\n",
       "       'application/octet-stream', 'application/pdf', 'application/rtf',\n",
       "       'application/vnd.ms-excel',\n",
       "       'application/vnd.oasis.opendocument.spreadsheet',\n",
       "       'application/x-7z-compressed', 'application/x-executable',\n",
       "       'application/x-gzip', 'application/x-hdf',\n",
       "       'application/x-rar-compressed', 'application/x-tar',\n",
       "       'application/x-xz', 'application/zip', 'image/bmp', 'image/gif',\n",
       "       'image/jpeg', 'image/png', 'image/tiff', 'text/csv', 'text/html',\n",
       "       'text/html; charset=KOI8-R', 'text/html; charset=windows-1252',\n",
       "       'text/plain', 'text/x-asm', 'text/x-c', 'text/x-c++',\n",
       "       'text/x-java', 'text/x-python', 'text/x-shellscript', 'text/xml',\n",
       "       'video/quicktime', 'video/x-msvideo'], dtype=object)"
      ]
     },
     "execution_count": 23,
     "metadata": {},
     "output_type": "execute_result"
    }
   ],
   "source": [
    "# for use in later step of manually coding formats into categories\n",
    "np.unique(file_types)"
   ]
  },
  {
   "cell_type": "code",
   "execution_count": 24,
   "metadata": {},
   "outputs": [
    {
     "data": {
      "text/html": [
       "<div>\n",
       "<style scoped>\n",
       "    .dataframe tbody tr th:only-of-type {\n",
       "        vertical-align: middle;\n",
       "    }\n",
       "\n",
       "    .dataframe tbody tr th {\n",
       "        vertical-align: top;\n",
       "    }\n",
       "\n",
       "    .dataframe thead th {\n",
       "        text-align: right;\n",
       "    }\n",
       "</style>\n",
       "<table border=\"1\" class=\"dataframe\">\n",
       "  <thead>\n",
       "    <tr style=\"text-align: right;\">\n",
       "      <th></th>\n",
       "      <th>num_bytes</th>\n",
       "      <th>total_downloads</th>\n",
       "      <th>size_in_gb</th>\n",
       "    </tr>\n",
       "    <tr>\n",
       "      <th>file_format</th>\n",
       "      <th></th>\n",
       "      <th></th>\n",
       "      <th></th>\n",
       "    </tr>\n",
       "  </thead>\n",
       "  <tbody>\n",
       "    <tr>\n",
       "      <th></th>\n",
       "      <td>41951344509</td>\n",
       "      <td>2335</td>\n",
       "      <td>39.070234</td>\n",
       "    </tr>\n",
       "    <tr>\n",
       "      <th>application/msword</th>\n",
       "      <td>1312526</td>\n",
       "      <td>3248</td>\n",
       "      <td>0.001222</td>\n",
       "    </tr>\n",
       "    <tr>\n",
       "      <th>application/netcdf, application/x-netcdf</th>\n",
       "      <td>3379339247024</td>\n",
       "      <td>18714</td>\n",
       "      <td>3147.254928</td>\n",
       "    </tr>\n",
       "    <tr>\n",
       "      <th>application/octet-stream</th>\n",
       "      <td>249273351065</td>\n",
       "      <td>58845</td>\n",
       "      <td>232.153899</td>\n",
       "    </tr>\n",
       "    <tr>\n",
       "      <th>application/pdf</th>\n",
       "      <td>121616192</td>\n",
       "      <td>14528</td>\n",
       "      <td>0.113264</td>\n",
       "    </tr>\n",
       "    <tr>\n",
       "      <th>application/rtf</th>\n",
       "      <td>196753</td>\n",
       "      <td>351</td>\n",
       "      <td>0.000183</td>\n",
       "    </tr>\n",
       "    <tr>\n",
       "      <th>application/vnd.ms-excel</th>\n",
       "      <td>526816972</td>\n",
       "      <td>16690</td>\n",
       "      <td>0.490637</td>\n",
       "    </tr>\n",
       "    <tr>\n",
       "      <th>application/vnd.oasis.opendocument.spreadsheet</th>\n",
       "      <td>1493886</td>\n",
       "      <td>1317</td>\n",
       "      <td>0.001391</td>\n",
       "    </tr>\n",
       "    <tr>\n",
       "      <th>application/x-7z-compressed</th>\n",
       "      <td>4955957097</td>\n",
       "      <td>1018</td>\n",
       "      <td>4.615595</td>\n",
       "    </tr>\n",
       "    <tr>\n",
       "      <th>application/x-executable</th>\n",
       "      <td>216448</td>\n",
       "      <td>147</td>\n",
       "      <td>0.000202</td>\n",
       "    </tr>\n",
       "    <tr>\n",
       "      <th>application/x-gzip</th>\n",
       "      <td>2132275421602</td>\n",
       "      <td>84279</td>\n",
       "      <td>1985.836235</td>\n",
       "    </tr>\n",
       "    <tr>\n",
       "      <th>application/x-hdf</th>\n",
       "      <td>1648552512</td>\n",
       "      <td>22740</td>\n",
       "      <td>1.535334</td>\n",
       "    </tr>\n",
       "    <tr>\n",
       "      <th>application/x-rar-compressed</th>\n",
       "      <td>36204964136</td>\n",
       "      <td>2806</td>\n",
       "      <td>33.718500</td>\n",
       "    </tr>\n",
       "    <tr>\n",
       "      <th>application/x-tar</th>\n",
       "      <td>303518474240</td>\n",
       "      <td>510</td>\n",
       "      <td>282.673607</td>\n",
       "    </tr>\n",
       "    <tr>\n",
       "      <th>application/x-xz</th>\n",
       "      <td>44689199288</td>\n",
       "      <td>1652</td>\n",
       "      <td>41.620060</td>\n",
       "    </tr>\n",
       "    <tr>\n",
       "      <th>application/zip</th>\n",
       "      <td>1082686430048</td>\n",
       "      <td>63134</td>\n",
       "      <td>1008.330314</td>\n",
       "    </tr>\n",
       "    <tr>\n",
       "      <th>image/bmp</th>\n",
       "      <td>1642412</td>\n",
       "      <td>758</td>\n",
       "      <td>0.001530</td>\n",
       "    </tr>\n",
       "    <tr>\n",
       "      <th>image/gif</th>\n",
       "      <td>1861</td>\n",
       "      <td>177</td>\n",
       "      <td>0.000002</td>\n",
       "    </tr>\n",
       "    <tr>\n",
       "      <th>image/jpeg</th>\n",
       "      <td>9986420</td>\n",
       "      <td>605</td>\n",
       "      <td>0.009301</td>\n",
       "    </tr>\n",
       "    <tr>\n",
       "      <th>image/png</th>\n",
       "      <td>635036</td>\n",
       "      <td>1380</td>\n",
       "      <td>0.000591</td>\n",
       "    </tr>\n",
       "    <tr>\n",
       "      <th>image/tiff</th>\n",
       "      <td>10183980269</td>\n",
       "      <td>3403</td>\n",
       "      <td>9.484571</td>\n",
       "    </tr>\n",
       "    <tr>\n",
       "      <th>text/csv</th>\n",
       "      <td>21374824405</td>\n",
       "      <td>90070</td>\n",
       "      <td>19.906856</td>\n",
       "    </tr>\n",
       "    <tr>\n",
       "      <th>text/html</th>\n",
       "      <td>3401239712</td>\n",
       "      <td>165</td>\n",
       "      <td>3.167651</td>\n",
       "    </tr>\n",
       "    <tr>\n",
       "      <th>text/html; charset=KOI8-R</th>\n",
       "      <td>33444635</td>\n",
       "      <td>302</td>\n",
       "      <td>0.031148</td>\n",
       "    </tr>\n",
       "    <tr>\n",
       "      <th>text/html; charset=windows-1252</th>\n",
       "      <td>10078833</td>\n",
       "      <td>53</td>\n",
       "      <td>0.009387</td>\n",
       "    </tr>\n",
       "    <tr>\n",
       "      <th>text/plain</th>\n",
       "      <td>164188881038</td>\n",
       "      <td>261881</td>\n",
       "      <td>152.912811</td>\n",
       "    </tr>\n",
       "    <tr>\n",
       "      <th>text/x-asm</th>\n",
       "      <td>3718</td>\n",
       "      <td>13</td>\n",
       "      <td>0.000003</td>\n",
       "    </tr>\n",
       "    <tr>\n",
       "      <th>text/x-c</th>\n",
       "      <td>101272385</td>\n",
       "      <td>496</td>\n",
       "      <td>0.094317</td>\n",
       "    </tr>\n",
       "    <tr>\n",
       "      <th>text/x-c++</th>\n",
       "      <td>454619674</td>\n",
       "      <td>1648</td>\n",
       "      <td>0.423398</td>\n",
       "    </tr>\n",
       "    <tr>\n",
       "      <th>text/x-java</th>\n",
       "      <td>215805</td>\n",
       "      <td>6665</td>\n",
       "      <td>0.000201</td>\n",
       "    </tr>\n",
       "    <tr>\n",
       "      <th>text/x-python</th>\n",
       "      <td>54081</td>\n",
       "      <td>1576</td>\n",
       "      <td>0.000050</td>\n",
       "    </tr>\n",
       "    <tr>\n",
       "      <th>text/x-shellscript</th>\n",
       "      <td>6626</td>\n",
       "      <td>653</td>\n",
       "      <td>0.000006</td>\n",
       "    </tr>\n",
       "    <tr>\n",
       "      <th>text/xml</th>\n",
       "      <td>609755</td>\n",
       "      <td>938</td>\n",
       "      <td>0.000568</td>\n",
       "    </tr>\n",
       "    <tr>\n",
       "      <th>video/quicktime</th>\n",
       "      <td>1560499768</td>\n",
       "      <td>1563</td>\n",
       "      <td>1.453329</td>\n",
       "    </tr>\n",
       "    <tr>\n",
       "      <th>video/x-msvideo</th>\n",
       "      <td>2405014912</td>\n",
       "      <td>711</td>\n",
       "      <td>2.239845</td>\n",
       "    </tr>\n",
       "  </tbody>\n",
       "</table>\n",
       "</div>"
      ],
      "text/plain": [
       "                                                    num_bytes  \\\n",
       "file_format                                                     \n",
       "                                                  41951344509   \n",
       "application/msword                                    1312526   \n",
       "application/netcdf, application/x-netcdf        3379339247024   \n",
       "application/octet-stream                         249273351065   \n",
       "application/pdf                                     121616192   \n",
       "application/rtf                                        196753   \n",
       "application/vnd.ms-excel                            526816972   \n",
       "application/vnd.oasis.opendocument.spreadsheet        1493886   \n",
       "application/x-7z-compressed                        4955957097   \n",
       "application/x-executable                               216448   \n",
       "application/x-gzip                              2132275421602   \n",
       "application/x-hdf                                  1648552512   \n",
       "application/x-rar-compressed                      36204964136   \n",
       "application/x-tar                                303518474240   \n",
       "application/x-xz                                  44689199288   \n",
       "application/zip                                 1082686430048   \n",
       "image/bmp                                             1642412   \n",
       "image/gif                                                1861   \n",
       "image/jpeg                                            9986420   \n",
       "image/png                                              635036   \n",
       "image/tiff                                        10183980269   \n",
       "text/csv                                          21374824405   \n",
       "text/html                                          3401239712   \n",
       "text/html; charset=KOI8-R                            33444635   \n",
       "text/html; charset=windows-1252                      10078833   \n",
       "text/plain                                       164188881038   \n",
       "text/x-asm                                               3718   \n",
       "text/x-c                                            101272385   \n",
       "text/x-c++                                          454619674   \n",
       "text/x-java                                            215805   \n",
       "text/x-python                                           54081   \n",
       "text/x-shellscript                                       6626   \n",
       "text/xml                                               609755   \n",
       "video/quicktime                                    1560499768   \n",
       "video/x-msvideo                                    2405014912   \n",
       "\n",
       "                                                total_downloads   size_in_gb  \n",
       "file_format                                                                   \n",
       "                                                           2335    39.070234  \n",
       "application/msword                                         3248     0.001222  \n",
       "application/netcdf, application/x-netcdf                  18714  3147.254928  \n",
       "application/octet-stream                                  58845   232.153899  \n",
       "application/pdf                                           14528     0.113264  \n",
       "application/rtf                                             351     0.000183  \n",
       "application/vnd.ms-excel                                  16690     0.490637  \n",
       "application/vnd.oasis.opendocument.spreadsheet             1317     0.001391  \n",
       "application/x-7z-compressed                                1018     4.615595  \n",
       "application/x-executable                                    147     0.000202  \n",
       "application/x-gzip                                        84279  1985.836235  \n",
       "application/x-hdf                                         22740     1.535334  \n",
       "application/x-rar-compressed                               2806    33.718500  \n",
       "application/x-tar                                           510   282.673607  \n",
       "application/x-xz                                           1652    41.620060  \n",
       "application/zip                                           63134  1008.330314  \n",
       "image/bmp                                                   758     0.001530  \n",
       "image/gif                                                   177     0.000002  \n",
       "image/jpeg                                                  605     0.009301  \n",
       "image/png                                                  1380     0.000591  \n",
       "image/tiff                                                 3403     9.484571  \n",
       "text/csv                                                  90070    19.906856  \n",
       "text/html                                                   165     3.167651  \n",
       "text/html; charset=KOI8-R                                   302     0.031148  \n",
       "text/html; charset=windows-1252                              53     0.009387  \n",
       "text/plain                                               261881   152.912811  \n",
       "text/x-asm                                                   13     0.000003  \n",
       "text/x-c                                                    496     0.094317  \n",
       "text/x-c++                                                 1648     0.423398  \n",
       "text/x-java                                                6665     0.000201  \n",
       "text/x-python                                              1576     0.000050  \n",
       "text/x-shellscript                                          653     0.000006  \n",
       "text/xml                                                    938     0.000568  \n",
       "video/quicktime                                            1563     1.453329  \n",
       "video/x-msvideo                                             711     2.239845  "
      ]
     },
     "execution_count": 24,
     "metadata": {},
     "output_type": "execute_result"
    }
   ],
   "source": [
    "# describe features grouped by file_format\n",
    "format_groups = df.groupby(by=[\"file_format\"]).sum()\n",
    "format_groups"
   ]
  },
  {
   "cell_type": "code",
   "execution_count": 25,
   "metadata": {},
   "outputs": [
    {
     "name": "stdout",
     "output_type": "stream",
     "text": [
      "['' 'application/msword' 'application/netcdf, application/x-netcdf'\n",
      " 'application/octet-stream' 'application/pdf' 'application/rtf'\n",
      " 'application/vnd.ms-excel'\n",
      " 'application/vnd.oasis.opendocument.spreadsheet'\n",
      " 'application/x-7z-compressed' 'application/x-executable'\n",
      " 'application/x-gzip' 'application/x-hdf' 'application/x-rar-compressed'\n",
      " 'application/x-tar' 'application/x-xz' 'application/zip' 'image/bmp'\n",
      " 'image/gif' 'image/jpeg' 'image/png' 'image/tiff' 'text/csv' 'text/html'\n",
      " 'text/html; charset=KOI8-R' 'text/html; charset=windows-1252'\n",
      " 'text/plain' 'text/x-asm' 'text/x-c' 'text/x-c++' 'text/x-java'\n",
      " 'text/x-python' 'text/x-shellscript' 'text/xml' 'video/quicktime'\n",
      " 'video/x-msvideo']\n",
      "[  81   21  171  449   67    5  116    3    5    1  369  333   14   11\n",
      "    6  480    2    1    3    4  113  576   14    2    1 1514    1    3\n",
      "    4   24   10    5    4   11    2]\n"
     ]
    }
   ],
   "source": [
    "# calculate counts for uncategorized file_format values\n",
    "unique_elements, counts_elements = np.unique(file_types, return_counts=True)\n",
    "print(unique_elements)\n",
    "print(counts_elements)"
   ]
  },
  {
   "cell_type": "code",
   "execution_count": 26,
   "metadata": {},
   "outputs": [
    {
     "data": {
      "text/html": [
       "<div>\n",
       "<style scoped>\n",
       "    .dataframe tbody tr th:only-of-type {\n",
       "        vertical-align: middle;\n",
       "    }\n",
       "\n",
       "    .dataframe tbody tr th {\n",
       "        vertical-align: top;\n",
       "    }\n",
       "\n",
       "    .dataframe thead th {\n",
       "        text-align: right;\n",
       "    }\n",
       "</style>\n",
       "<table border=\"1\" class=\"dataframe\">\n",
       "  <thead>\n",
       "    <tr style=\"text-align: right;\">\n",
       "      <th></th>\n",
       "      <th>doi</th>\n",
       "      <th>pub_date</th>\n",
       "      <th>filename</th>\n",
       "      <th>file_format</th>\n",
       "      <th>num_bytes</th>\n",
       "      <th>total_downloads</th>\n",
       "      <th>size_code</th>\n",
       "      <th>size_in_gb</th>\n",
       "      <th>format_code</th>\n",
       "    </tr>\n",
       "  </thead>\n",
       "  <tbody>\n",
       "    <tr>\n",
       "      <th>4339</th>\n",
       "      <td>10.5072/FK2IDB-6618320_V1</td>\n",
       "      <td>2016-04-29</td>\n",
       "      <td>test.txt</td>\n",
       "      <td>text/plain</td>\n",
       "      <td>4</td>\n",
       "      <td>39</td>\n",
       "      <td>0 - 4</td>\n",
       "      <td>3.725290e-09</td>\n",
       "      <td>Text</td>\n",
       "    </tr>\n",
       "    <tr>\n",
       "      <th>4340</th>\n",
       "      <td>10.5072/FK2IDB-6618320_V1</td>\n",
       "      <td>2016-04-29</td>\n",
       "      <td>hello.rb</td>\n",
       "      <td>text/plain</td>\n",
       "      <td>12</td>\n",
       "      <td>97</td>\n",
       "      <td>0 - 4</td>\n",
       "      <td>1.117587e-08</td>\n",
       "      <td>Text</td>\n",
       "    </tr>\n",
       "    <tr>\n",
       "      <th>763</th>\n",
       "      <td>10.13012/B2IDB-4602893_V1</td>\n",
       "      <td>2016-05-16</td>\n",
       "      <td>AmbB_and_AmbE_2015-02-10.tiff</td>\n",
       "      <td>image/tiff</td>\n",
       "      <td>249016</td>\n",
       "      <td>420</td>\n",
       "      <td>0 - 4</td>\n",
       "      <td>2.319142e-04</td>\n",
       "      <td>Other</td>\n",
       "    </tr>\n",
       "    <tr>\n",
       "      <th>764</th>\n",
       "      <td>10.13012/B2IDB-4602893_V1</td>\n",
       "      <td>2016-05-16</td>\n",
       "      <td>AmbB_and_AmbE_Sequence_Set_2015-02-10.txt</td>\n",
       "      <td>text/plain</td>\n",
       "      <td>13154</td>\n",
       "      <td>305</td>\n",
       "      <td>0 - 4</td>\n",
       "      <td>1.225062e-05</td>\n",
       "      <td>Text</td>\n",
       "    </tr>\n",
       "    <tr>\n",
       "      <th>765</th>\n",
       "      <td>10.13012/B2IDB-4602893_V1</td>\n",
       "      <td>2016-05-16</td>\n",
       "      <td>dataset_readme.txt</td>\n",
       "      <td>text/plain</td>\n",
       "      <td>1800</td>\n",
       "      <td>302</td>\n",
       "      <td>0 - 4</td>\n",
       "      <td>1.676381e-06</td>\n",
       "      <td>Text</td>\n",
       "    </tr>\n",
       "  </tbody>\n",
       "</table>\n",
       "</div>"
      ],
      "text/plain": [
       "                            doi   pub_date  \\\n",
       "4339  10.5072/FK2IDB-6618320_V1 2016-04-29   \n",
       "4340  10.5072/FK2IDB-6618320_V1 2016-04-29   \n",
       "763   10.13012/B2IDB-4602893_V1 2016-05-16   \n",
       "764   10.13012/B2IDB-4602893_V1 2016-05-16   \n",
       "765   10.13012/B2IDB-4602893_V1 2016-05-16   \n",
       "\n",
       "                                       filename file_format  num_bytes  \\\n",
       "4339                                   test.txt  text/plain          4   \n",
       "4340                                   hello.rb  text/plain         12   \n",
       "763               AmbB_and_AmbE_2015-02-10.tiff  image/tiff     249016   \n",
       "764   AmbB_and_AmbE_Sequence_Set_2015-02-10.txt  text/plain      13154   \n",
       "765                          dataset_readme.txt  text/plain       1800   \n",
       "\n",
       "      total_downloads size_code    size_in_gb format_code  \n",
       "4339               39     0 - 4  3.725290e-09        Text  \n",
       "4340               97     0 - 4  1.117587e-08        Text  \n",
       "763               420     0 - 4  2.319142e-04       Other  \n",
       "764               305     0 - 4  1.225062e-05        Text  \n",
       "765               302     0 - 4  1.676381e-06        Text  "
      ]
     },
     "execution_count": 26,
     "metadata": {},
     "output_type": "execute_result"
    }
   ],
   "source": [
    "# add format_code column to dataframe based on lists of file formats\n",
    "\n",
    "text_formats =  ['text/html; charset=KOI8-R',\n",
    " 'text/html; charset=windows-1252', 'text/plain', 'text/x-asm', 'text/x-c'\n",
    " 'text/x-c++', 'text/x-java', 'text/x-perl', 'text/x-python'\n",
    " 'text/x-shellscript', 'text/xml']\n",
    "\n",
    "archive_formats = ['application/x-7z-compressed',\n",
    " 'application/x-gzip', 'application/x-rar-compressed'\n",
    " 'application/x-tar', 'application/x-xz', 'application/zip']\n",
    "\n",
    "conditions = [\n",
    "    np.isin(df['file_format'], text_formats),\n",
    "    np.isin(df['file_format'], archive_formats)\n",
    "]\n",
    "outputs = [\n",
    "    'Text', 'Archive'\n",
    "]\n",
    "df['format_code'] = np.select(conditions, outputs, 'Other')\n",
    "df.head()\n"
   ]
  },
  {
   "cell_type": "code",
   "execution_count": 27,
   "metadata": {},
   "outputs": [
    {
     "name": "stdout",
     "output_type": "stream",
     "text": [
      "['Archive' 'Other' 'Text']\n",
      "[ 860 2020 1546]\n"
     ]
    },
    {
     "data": {
      "image/png": "[encoded data removed]",
      "text/plain": [
       "<Figure size 432x288 with 1 Axes>"
      ]
     },
     "metadata": {},
     "output_type": "display_data"
    }
   ],
   "source": [
    "# generate pie chart visualizing instances of archive file types as a part of all file type categories\n",
    "labels, counts = np.unique(df['format_code'], return_counts=True)\n",
    "colors = ['#F47F24', '#939CC2', '#A17724']\n",
    "print(labels)\n",
    "print(counts)\n",
    "explode = (0.1, 0.02, 0.02)\n",
    "fig1, ax1 = plt.subplots()\n",
    "ax1.pie(counts,\n",
    "        explode=explode,\n",
    "        labels=labels,\n",
    "        colors=colors,\n",
    "        autopct='%1.1f%%',\n",
    "        shadow=True,\n",
    "        startangle=90)\n",
    "ax1.axis('equal')\n",
    "\n",
    "plt.show()"
   ]
  },
  {
   "cell_type": "code",
   "execution_count": 28,
   "metadata": {},
   "outputs": [
    {
     "data": {
      "text/html": [
       "<div>\n",
       "<style scoped>\n",
       "    .dataframe tbody tr th:only-of-type {\n",
       "        vertical-align: middle;\n",
       "    }\n",
       "\n",
       "    .dataframe tbody tr th {\n",
       "        vertical-align: top;\n",
       "    }\n",
       "\n",
       "    .dataframe thead th {\n",
       "        text-align: right;\n",
       "    }\n",
       "</style>\n",
       "<table border=\"1\" class=\"dataframe\">\n",
       "  <thead>\n",
       "    <tr style=\"text-align: right;\">\n",
       "      <th></th>\n",
       "      <th>num_bytes</th>\n",
       "      <th>total_downloads</th>\n",
       "      <th>size_in_gb</th>\n",
       "    </tr>\n",
       "    <tr>\n",
       "      <th>format_code</th>\n",
       "      <th></th>\n",
       "      <th></th>\n",
       "      <th></th>\n",
       "    </tr>\n",
       "  </thead>\n",
       "  <tbody>\n",
       "    <tr>\n",
       "      <th>Archive</th>\n",
       "      <td>3264607008035</td>\n",
       "      <td>150083</td>\n",
       "      <td>3040.402204</td>\n",
       "    </tr>\n",
       "    <tr>\n",
       "      <th>Other</th>\n",
       "      <td>4052081363824</td>\n",
       "      <td>245436</td>\n",
       "      <td>3773.794848</td>\n",
       "    </tr>\n",
       "    <tr>\n",
       "      <th>Text</th>\n",
       "      <td>164233233784</td>\n",
       "      <td>269852</td>\n",
       "      <td>152.954118</td>\n",
       "    </tr>\n",
       "  </tbody>\n",
       "</table>\n",
       "</div>"
      ],
      "text/plain": [
       "                 num_bytes  total_downloads   size_in_gb\n",
       "format_code                                             \n",
       "Archive      3264607008035           150083  3040.402204\n",
       "Other        4052081363824           245436  3773.794848\n",
       "Text          164233233784           269852   152.954118"
      ]
     },
     "execution_count": 28,
     "metadata": {},
     "output_type": "execute_result"
    }
   ],
   "source": [
    "df_by_format = df.groupby(['format_code']).sum()\n",
    "df_by_format"
   ]
  },
  {
   "cell_type": "code",
   "execution_count": 29,
   "metadata": {},
   "outputs": [
    {
     "name": "stdout",
     "output_type": "stream",
     "text": [
      "['Archive', 'Other', 'Text']\n",
      "[150083, 245436, 269852]\n"
     ]
    },
    {
     "data": {
      "image/png": "[encoded data removed]",
      "text/plain": [
       "<Figure size 432x288 with 1 Axes>"
      ]
     },
     "metadata": {},
     "output_type": "display_data"
    }
   ],
   "source": [
    "# generate pie chart visualizing downloads of archive type files as parts of total file downloads\n",
    "\n",
    "labels = list(df_by_format.axes[0])\n",
    "print(labels)\n",
    "counts = list(df_by_format['total_downloads'])\n",
    "print(counts)\n",
    "colors = ['#F47F24', '#939CC2', '#A17724']\n",
    "explode = (0.1, 0.02, 0.02)\n",
    "fig1, ax1 = plt.subplots()\n",
    "ax1.pie(counts,\n",
    "        explode=explode,\n",
    "        labels=labels,\n",
    "        colors=colors,\n",
    "        autopct='%1.1f%%',\n",
    "        shadow=True,\n",
    "        startangle=90)\n",
    "ax1.axis('equal')\n",
    "\n",
    "plt.show()"
   ]
  },
  {
   "cell_type": "code",
   "execution_count": null,
   "metadata": {},
   "outputs": [],
   "source": []
  }
 ],
 "metadata": {
  "kernelspec": {
   "display_name": "Python 3",
   "language": "python",
   "name": "python3"
  },
  "language_info": {
   "codemirror_mode": {
    "name": "ipython",
    "version": 3
   },
   "file_extension": ".py",
   "mimetype": "text/x-python",
   "name": "python",
   "nbconvert_exporter": "python",
   "pygments_lexer": "ipython3",
   "version": "3.9.2"
  }
 },
 "nbformat": 4,
 "nbformat_minor": 1
}
